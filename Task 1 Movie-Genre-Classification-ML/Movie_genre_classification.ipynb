{
 "cells": [
  {
   "cell_type": "code",
   "execution_count": 10,
   "id": "7af47d49",
   "metadata": {},
   "outputs": [],
   "source": [
    "#importing all necessary libraries\n",
    "import pandas as pd\n",
    "import numpy as np\n",
    "from sklearn.model_selection import train_test_split\n",
    "from sklearn.linear_model import LogisticRegression\n",
    "from sklearn.metrics import accuracy_score\n",
    "from sklearn.naive_bayes import MultinomialNB\n",
    "from sklearn.metrics import classification_report\n",
    "from sklearn.preprocessing import StandardScaler"
   ]
  },
  {
   "cell_type": "code",
   "execution_count": 11,
   "id": "c63917ed",
   "metadata": {},
   "outputs": [
    {
     "data": {
      "text/html": [
       "<div>\n",
       "<style scoped>\n",
       "    .dataframe tbody tr th:only-of-type {\n",
       "        vertical-align: middle;\n",
       "    }\n",
       "\n",
       "    .dataframe tbody tr th {\n",
       "        vertical-align: top;\n",
       "    }\n",
       "\n",
       "    .dataframe thead th {\n",
       "        text-align: right;\n",
       "    }\n",
       "</style>\n",
       "<table border=\"1\" class=\"dataframe\">\n",
       "  <thead>\n",
       "    <tr style=\"text-align: right;\">\n",
       "      <th></th>\n",
       "      <th>Movie</th>\n",
       "      <th>Genre</th>\n",
       "      <th>Description</th>\n",
       "    </tr>\n",
       "  </thead>\n",
       "  <tbody>\n",
       "    <tr>\n",
       "      <th>0</th>\n",
       "      <td>Oscar et la dame rose (2009)</td>\n",
       "      <td>drama</td>\n",
       "      <td>Listening in to a conversation between his do...</td>\n",
       "    </tr>\n",
       "    <tr>\n",
       "      <th>1</th>\n",
       "      <td>Cupid (1997)</td>\n",
       "      <td>thriller</td>\n",
       "      <td>A brother and sister with a past incestuous r...</td>\n",
       "    </tr>\n",
       "    <tr>\n",
       "      <th>2</th>\n",
       "      <td>Young, Wild and Wonderful (1980)</td>\n",
       "      <td>adult</td>\n",
       "      <td>As the bus empties the students for their fie...</td>\n",
       "    </tr>\n",
       "    <tr>\n",
       "      <th>3</th>\n",
       "      <td>The Secret Sin (1915)</td>\n",
       "      <td>drama</td>\n",
       "      <td>To help their unemployed father make ends mee...</td>\n",
       "    </tr>\n",
       "    <tr>\n",
       "      <th>4</th>\n",
       "      <td>The Unrecovered (2007)</td>\n",
       "      <td>drama</td>\n",
       "      <td>The film's title refers not only to the un-re...</td>\n",
       "    </tr>\n",
       "    <tr>\n",
       "      <th>...</th>\n",
       "      <td>...</td>\n",
       "      <td>...</td>\n",
       "      <td>...</td>\n",
       "    </tr>\n",
       "    <tr>\n",
       "      <th>54209</th>\n",
       "      <td>\"Bonino\" (1953)</td>\n",
       "      <td>comedy</td>\n",
       "      <td>This short-lived NBC live sitcom centered on ...</td>\n",
       "    </tr>\n",
       "    <tr>\n",
       "      <th>54210</th>\n",
       "      <td>Dead Girls Don't Cry (????)</td>\n",
       "      <td>horror</td>\n",
       "      <td>The NEXT Generation of EXPLOITATION. The sist...</td>\n",
       "    </tr>\n",
       "    <tr>\n",
       "      <th>54211</th>\n",
       "      <td>Ronald Goedemondt: Ze bestaan echt (2008)</td>\n",
       "      <td>documentary</td>\n",
       "      <td>Ze bestaan echt, is a stand-up comedy about g...</td>\n",
       "    </tr>\n",
       "    <tr>\n",
       "      <th>54212</th>\n",
       "      <td>Make Your Own Bed (1944)</td>\n",
       "      <td>comedy</td>\n",
       "      <td>Walter and Vivian live in the country and hav...</td>\n",
       "    </tr>\n",
       "    <tr>\n",
       "      <th>54213</th>\n",
       "      <td>Nature's Fury: Storm of the Century (2006)</td>\n",
       "      <td>history</td>\n",
       "      <td>On Labor Day Weekend, 1935, the most intense ...</td>\n",
       "    </tr>\n",
       "  </tbody>\n",
       "</table>\n",
       "<p>54214 rows × 3 columns</p>\n",
       "</div>"
      ],
      "text/plain": [
       "                                              Movie          Genre  \\\n",
       "0                     Oscar et la dame rose (2009)          drama    \n",
       "1                                     Cupid (1997)       thriller    \n",
       "2                 Young, Wild and Wonderful (1980)          adult    \n",
       "3                            The Secret Sin (1915)          drama    \n",
       "4                           The Unrecovered (2007)          drama    \n",
       "...                                             ...            ...   \n",
       "54209                              \"Bonino\" (1953)         comedy    \n",
       "54210                  Dead Girls Don't Cry (????)         horror    \n",
       "54211    Ronald Goedemondt: Ze bestaan echt (2008)    documentary    \n",
       "54212                     Make Your Own Bed (1944)         comedy    \n",
       "54213   Nature's Fury: Storm of the Century (2006)        history    \n",
       "\n",
       "                                             Description  \n",
       "0       Listening in to a conversation between his do...  \n",
       "1       A brother and sister with a past incestuous r...  \n",
       "2       As the bus empties the students for their fie...  \n",
       "3       To help their unemployed father make ends mee...  \n",
       "4       The film's title refers not only to the un-re...  \n",
       "...                                                  ...  \n",
       "54209   This short-lived NBC live sitcom centered on ...  \n",
       "54210   The NEXT Generation of EXPLOITATION. The sist...  \n",
       "54211   Ze bestaan echt, is a stand-up comedy about g...  \n",
       "54212   Walter and Vivian live in the country and hav...  \n",
       "54213   On Labor Day Weekend, 1935, the most intense ...  \n",
       "\n",
       "[54214 rows x 3 columns]"
      ]
     },
     "metadata": {},
     "output_type": "display_data"
    },
    {
     "name": "stdout",
     "output_type": "stream",
     "text": [
      "Movie          0\n",
      "Genre          0\n",
      "Description    0\n",
      "dtype: int64\n",
      "0\n"
     ]
    }
   ],
   "source": [
    "#Reading the training data from the system using pandas \n",
    "# As the data is in the form of ID ::: TITLE ::: GENRE ::: DESCRIPTION we use sep parameter \n",
    "train=pd.read_csv('/home/harsha/Desktop/ML/Genre Classification Dataset/train_data.txt',sep=':::',header=None,names=['ID','Movie','Genre','Description'],engine='python')\n",
    "# Dropping the ID as it is not necessary for the training \n",
    "train.drop(['ID'],axis=1,inplace=True)\n",
    "display(train)\n",
    "print(train.isna().sum())\n",
    "print(train.duplicated().sum())"
   ]
  },
  {
   "cell_type": "code",
   "execution_count": 12,
   "id": "d4cc7dd5",
   "metadata": {},
   "outputs": [
    {
     "data": {
      "text/plain": [
       "array([' drama ', ' thriller ', ' adult ', ' documentary ', ' comedy ',\n",
       "       ' crime ', ' reality-tv ', ' horror ', ' sport ', ' animation ',\n",
       "       ' action ', ' fantasy ', ' short ', ' sci-fi ', ' music ',\n",
       "       ' adventure ', ' talk-show ', ' western ', ' family ', ' mystery ',\n",
       "       ' history ', ' news ', ' biography ', ' romance ', ' game-show ',\n",
       "       ' musical ', ' war '], dtype=object)"
      ]
     },
     "metadata": {},
     "output_type": "display_data"
    },
    {
     "name": "stdout",
     "output_type": "stream",
     "text": [
      "<class 'pandas.core.frame.DataFrame'>\n",
      "RangeIndex: 54214 entries, 0 to 54213\n",
      "Data columns (total 3 columns):\n",
      " #   Column       Non-Null Count  Dtype \n",
      "---  ------       --------------  ----- \n",
      " 0   Movie        54214 non-null  object\n",
      " 1   Genre        54214 non-null  object\n",
      " 2   Description  54214 non-null  object\n",
      "dtypes: object(3)\n",
      "memory usage: 1.2+ MB\n"
     ]
    },
    {
     "data": {
      "text/plain": [
       "None"
      ]
     },
     "metadata": {},
     "output_type": "display_data"
    }
   ],
   "source": [
    "# All types of genres \n",
    "display(train['Genre'].unique())\n",
    "display(train.info())"
   ]
  },
  {
   "cell_type": "code",
   "execution_count": 13,
   "id": "26d7afb2",
   "metadata": {},
   "outputs": [
    {
     "name": "stdout",
     "output_type": "stream",
     "text": [
      "(43371,)\n",
      "(10843,)\n",
      "(43371,)\n",
      "(10843,)\n"
     ]
    }
   ],
   "source": [
    "#splitting the data for traing and testing the data from the train data set only \n",
    "x_train,x_test,y_train,y_test=train_test_split(train['Description'],train['Genre'],test_size=0.2,random_state=42)\n",
    "print(x_train.shape)\n",
    "print(x_test.shape)\n",
    "print(y_train.shape)\n",
    "print(y_test.shape)"
   ]
  },
  {
   "cell_type": "code",
   "execution_count": 14,
   "id": "47651380",
   "metadata": {},
   "outputs": [
    {
     "data": {
      "text/plain": [
       "(43371, 10000)"
      ]
     },
     "metadata": {},
     "output_type": "display_data"
    },
    {
     "name": "stdout",
     "output_type": "stream",
     "text": [
      "['a', 'about', 'above', 'after', 'again', 'against', 'ain', 'all', 'am', 'an', 'and', 'any', 'are', 'aren', \"aren't\", 'as', 'at', 'be', 'because', 'been', 'before', 'being', 'below', 'between', 'both', 'but', 'by', 'can', 'couldn', \"couldn't\", 'd', 'did', 'didn', \"didn't\", 'do', 'does', 'doesn', \"doesn't\", 'doing', 'don', \"don't\", 'down', 'during', 'each', 'few', 'for', 'from', 'further', 'had', 'hadn', \"hadn't\", 'has', 'hasn', \"hasn't\", 'have', 'haven', \"haven't\", 'having', 'he', \"he'd\", \"he'll\", 'her', 'here', 'hers', 'herself', \"he's\", 'him', 'himself', 'his', 'how', 'i', \"i'd\", 'if', \"i'll\", \"i'm\", 'in', 'into', 'is', 'isn', \"isn't\", 'it', \"it'd\", \"it'll\", \"it's\", 'its', 'itself', \"i've\", 'just', 'll', 'm', 'ma', 'me', 'mightn', \"mightn't\", 'more', 'most', 'mustn', \"mustn't\", 'my', 'myself', 'needn', \"needn't\", 'no', 'nor', 'not', 'now', 'o', 'of', 'off', 'on', 'once', 'only', 'or', 'other', 'our', 'ours', 'ourselves', 'out', 'over', 'own', 're', 's', 'same', 'shan', \"shan't\", 'she', \"she'd\", \"she'll\", \"she's\", 'should', 'shouldn', \"shouldn't\", \"should've\", 'so', 'some', 'such', 't', 'than', 'that', \"that'll\", 'the', 'their', 'theirs', 'them', 'themselves', 'then', 'there', 'these', 'they', \"they'd\", \"they'll\", \"they're\", \"they've\", 'this', 'those', 'through', 'to', 'too', 'under', 'until', 'up', 've', 'very', 'was', 'wasn', \"wasn't\", 'we', \"we'd\", \"we'll\", \"we're\", 'were', 'weren', \"weren't\", \"we've\", 'what', 'when', 'where', 'which', 'while', 'who', 'whom', 'why', 'will', 'with', 'won', \"won't\", 'wouldn', \"wouldn't\", 'y', 'you', \"you'd\", \"you'll\", 'your', \"you're\", 'yours', 'yourself', 'yourselves', \"you've\"]\n"
     ]
    }
   ],
   "source": [
    "#Importing Count Vectorizer for conversion of text into numbers\n",
    "from sklearn.feature_extraction.text import CountVectorizer\n",
    "#Using stop words for removing the most commonly used words for better training\n",
    "from nltk.corpus import stopwords\n",
    "import nltk\n",
    "#nltk.download('stopwords')\n",
    "stop_words = stopwords.words('english')\n",
    "cv=CountVectorizer(stop_words=stop_words,max_df=0.8,min_df=2,max_features=10000)\n",
    "#For sklearn classifiers features should be given as number input and for labels it directly accepts strings it auto encodes internally \n",
    "x_train_vector=cv.fit_transform(x_train)\n",
    "x_test_vector=cv.transform(x_test)\n",
    "display(x_train_vector.shape)\n",
    "print(stop_words)"
   ]
  },
  {
   "cell_type": "code",
   "execution_count": 15,
   "id": "aaca9cfb",
   "metadata": {},
   "outputs": [
    {
     "data": {
      "text/plain": [
       "\"from sklearn.feature_extraction.text import TfidfVectorizer\\ntf=TfidfVectorizer(stop_words='english',ngram_range=(1,2),lowercase=True)\\nx_train_vector=tf.fit_transform(x_train)\\nx_test_vector=tf.transform(x_test)\""
      ]
     },
     "execution_count": 15,
     "metadata": {},
     "output_type": "execute_result"
    }
   ],
   "source": [
    "#We can use either the Count vectorizer or the TFID vectorizer for convertion of text to numbers\n",
    "'''from sklearn.feature_extraction.text import TfidfVectorizer\n",
    "tf=TfidfVectorizer(stop_words='english',ngram_range=(1,2),lowercase=True)\n",
    "x_train_vector=tf.fit_transform(x_train)\n",
    "x_test_vector=tf.transform(x_test)'''"
   ]
  },
  {
   "cell_type": "code",
   "execution_count": 16,
   "id": "cd567e68",
   "metadata": {},
   "outputs": [
    {
     "name": "stdout",
     "output_type": "stream",
     "text": [
      "0.5472655169233607\n",
      "               precision    recall  f1-score   support\n",
      "\n",
      "      action        0.38      0.31      0.34       263\n",
      "       adult        0.70      0.38      0.50       112\n",
      "   adventure        0.31      0.24      0.27       139\n",
      "   animation        0.35      0.15      0.21       104\n",
      "   biography        0.00      0.00      0.00        61\n",
      "      comedy        0.49      0.56      0.52      1443\n",
      "       crime        0.29      0.13      0.18       107\n",
      " documentary        0.70      0.75      0.72      2659\n",
      "       drama        0.55      0.65      0.60      2697\n",
      "      family        0.27      0.19      0.22       150\n",
      "     fantasy        0.17      0.04      0.07        74\n",
      "   game-show        0.83      0.60      0.70        40\n",
      "     history        0.00      0.00      0.00        45\n",
      "      horror        0.63      0.60      0.62       431\n",
      "       music        0.56      0.53      0.54       144\n",
      "     musical        0.33      0.10      0.15        50\n",
      "     mystery        0.18      0.05      0.08        56\n",
      "        news        0.40      0.06      0.10        34\n",
      "  reality-tv        0.45      0.30      0.36       192\n",
      "     romance        0.18      0.08      0.11       151\n",
      "      sci-fi        0.47      0.29      0.36       143\n",
      "       short        0.36      0.39      0.38      1045\n",
      "       sport        0.57      0.34      0.43        93\n",
      "   talk-show        0.54      0.32      0.40        81\n",
      "    thriller        0.28      0.23      0.25       309\n",
      "         war        0.40      0.10      0.16        20\n",
      "     western        0.88      0.77      0.82       200\n",
      "\n",
      "     accuracy                           0.55     10843\n",
      "    macro avg       0.42      0.30      0.34     10843\n",
      " weighted avg       0.53      0.55      0.53     10843\n",
      "\n"
     ]
    }
   ],
   "source": [
    "# Logistic Regression Model\n",
    "model_LR=LogisticRegression(solver='lbfgs',n_jobs=-1,max_iter=1000)\n",
    "model_LR.fit(x_train_vector,y_train)\n",
    "y_pred_LR=model_LR.predict(x_test_vector)\n",
    "print(accuracy_score(y_test,y_pred_LR))\n",
    "print(classification_report(y_test,y_pred_LR,zero_division=0))"
   ]
  },
  {
   "cell_type": "code",
   "execution_count": 17,
   "id": "29208ef8",
   "metadata": {},
   "outputs": [
    {
     "name": "stdout",
     "output_type": "stream",
     "text": [
      "0.560638199760214\n",
      "               precision    recall  f1-score   support\n",
      "\n",
      "      action        0.36      0.46      0.40       263\n",
      "       adult        0.59      0.57      0.58       112\n",
      "   adventure        0.28      0.27      0.27       139\n",
      "   animation        0.34      0.24      0.28       104\n",
      "   biography        0.00      0.00      0.00        61\n",
      "      comedy        0.56      0.55      0.55      1443\n",
      "       crime        0.17      0.11      0.13       107\n",
      " documentary        0.73      0.75      0.74      2659\n",
      "       drama        0.62      0.61      0.62      2697\n",
      "      family        0.32      0.21      0.25       150\n",
      "     fantasy        0.15      0.04      0.06        74\n",
      "   game-show        0.72      0.65      0.68        40\n",
      "     history        0.05      0.02      0.03        45\n",
      "      horror        0.55      0.69      0.61       431\n",
      "       music        0.34      0.76      0.47       144\n",
      "     musical        0.16      0.06      0.09        50\n",
      "     mystery        0.08      0.02      0.03        56\n",
      "        news        0.00      0.00      0.00        34\n",
      "  reality-tv        0.41      0.56      0.48       192\n",
      "     romance        0.23      0.15      0.18       151\n",
      "      sci-fi        0.39      0.45      0.42       143\n",
      "       short        0.45      0.35      0.39      1045\n",
      "       sport        0.44      0.65      0.52        93\n",
      "   talk-show        0.29      0.38      0.33        81\n",
      "    thriller        0.27      0.31      0.29       309\n",
      "         war        0.10      0.15      0.12        20\n",
      "     western        0.71      0.87      0.78       200\n",
      "\n",
      "     accuracy                           0.56     10843\n",
      "    macro avg       0.34      0.37      0.34     10843\n",
      " weighted avg       0.55      0.56      0.55     10843\n",
      "\n"
     ]
    }
   ],
   "source": [
    "# Naives bayes model \n",
    "model_NB=MultinomialNB()\n",
    "model_NB.fit(x_train_vector,y_train)\n",
    "y_pred_NB=model_NB.predict(x_test_vector)\n",
    "print(accuracy_score(y_test,y_pred_NB))\n",
    "print(classification_report(y_test,y_pred_NB,zero_division=0))"
   ]
  },
  {
   "cell_type": "code",
   "execution_count": 18,
   "id": "451c9d3c",
   "metadata": {},
   "outputs": [
    {
     "name": "stdout",
     "output_type": "stream",
     "text": [
      "0.49912385871068893\n",
      "               precision    recall  f1-score   support\n",
      "\n",
      "      action        0.56      0.02      0.04       263\n",
      "       adult        0.51      0.31      0.39       112\n",
      "   adventure        0.62      0.14      0.23       139\n",
      "   animation        0.40      0.08      0.13       104\n",
      "   biography        0.00      0.00      0.00        61\n",
      "      comedy        0.50      0.27      0.35      1443\n",
      "       crime        1.00      0.01      0.02       107\n",
      " documentary        0.59      0.82      0.68      2659\n",
      "       drama        0.42      0.83      0.56      2697\n",
      "      family        0.80      0.03      0.05       150\n",
      "     fantasy        0.00      0.00      0.00        74\n",
      "   game-show        0.74      0.57      0.65        40\n",
      "     history        0.00      0.00      0.00        45\n",
      "      horror        0.52      0.26      0.34       431\n",
      "       music        0.57      0.40      0.47       144\n",
      "     musical        0.12      0.02      0.03        50\n",
      "     mystery        0.00      0.00      0.00        56\n",
      "        news        0.00      0.00      0.00        34\n",
      "  reality-tv        0.88      0.04      0.07       192\n",
      "     romance        0.00      0.00      0.00       151\n",
      "      sci-fi        0.40      0.17      0.24       143\n",
      "       short        0.57      0.13      0.22      1045\n",
      "       sport        0.58      0.23      0.33        93\n",
      "   talk-show        0.61      0.17      0.27        81\n",
      "    thriller        0.38      0.05      0.09       309\n",
      "         war        1.00      0.05      0.10        20\n",
      "     western        0.72      0.65      0.68       200\n",
      "\n",
      "     accuracy                           0.50     10843\n",
      "    macro avg       0.46      0.19      0.22     10843\n",
      " weighted avg       0.51      0.50      0.43     10843\n",
      "\n"
     ]
    }
   ],
   "source": [
    "# Random Forest classifier model \n",
    "from sklearn.ensemble import RandomForestClassifier\n",
    "rf=RandomForestClassifier(n_jobs=-1,class_weight='balanced')\n",
    "rf.fit(x_train_vector,y_train)\n",
    "y_pred_rf=rf.predict(x_test_vector)\n",
    "print(accuracy_score(y_test,y_pred_rf))\n",
    "print(classification_report(y_test,y_pred_rf,zero_division=0))"
   ]
  },
  {
   "cell_type": "code",
   "execution_count": 19,
   "id": "8accf596",
   "metadata": {},
   "outputs": [
    {
     "data": {
      "text/html": [
       "<div>\n",
       "<style scoped>\n",
       "    .dataframe tbody tr th:only-of-type {\n",
       "        vertical-align: middle;\n",
       "    }\n",
       "\n",
       "    .dataframe tbody tr th {\n",
       "        vertical-align: top;\n",
       "    }\n",
       "\n",
       "    .dataframe thead th {\n",
       "        text-align: right;\n",
       "    }\n",
       "</style>\n",
       "<table border=\"1\" class=\"dataframe\">\n",
       "  <thead>\n",
       "    <tr style=\"text-align: right;\">\n",
       "      <th></th>\n",
       "      <th>Movie</th>\n",
       "      <th>Description</th>\n",
       "    </tr>\n",
       "  </thead>\n",
       "  <tbody>\n",
       "    <tr>\n",
       "      <th>0</th>\n",
       "      <td>Edgar's Lunch (1998)</td>\n",
       "      <td>L.R. Brane loves his life - his car, his apar...</td>\n",
       "    </tr>\n",
       "    <tr>\n",
       "      <th>1</th>\n",
       "      <td>La guerra de papá (1977)</td>\n",
       "      <td>Spain, March 1964: Quico is a very naughty ch...</td>\n",
       "    </tr>\n",
       "    <tr>\n",
       "      <th>2</th>\n",
       "      <td>Off the Beaten Track (2010)</td>\n",
       "      <td>One year in the life of Albin and his family ...</td>\n",
       "    </tr>\n",
       "    <tr>\n",
       "      <th>3</th>\n",
       "      <td>Meu Amigo Hindu (2015)</td>\n",
       "      <td>His father has died, he hasn't spoken with hi...</td>\n",
       "    </tr>\n",
       "    <tr>\n",
       "      <th>4</th>\n",
       "      <td>Er nu zhai (1955)</td>\n",
       "      <td>Before he was known internationally as a mart...</td>\n",
       "    </tr>\n",
       "    <tr>\n",
       "      <th>...</th>\n",
       "      <td>...</td>\n",
       "      <td>...</td>\n",
       "    </tr>\n",
       "    <tr>\n",
       "      <th>54195</th>\n",
       "      <td>\"Tales of Light &amp; Dark\" (2013)</td>\n",
       "      <td>Covering multiple genres, Tales of Light &amp; Da...</td>\n",
       "    </tr>\n",
       "    <tr>\n",
       "      <th>54196</th>\n",
       "      <td>Der letzte Mohikaner (1965)</td>\n",
       "      <td>As Alice and Cora Munro attempt to find their...</td>\n",
       "    </tr>\n",
       "    <tr>\n",
       "      <th>54197</th>\n",
       "      <td>Oliver Twink (2007)</td>\n",
       "      <td>A movie 169 years in the making. Oliver Twist...</td>\n",
       "    </tr>\n",
       "    <tr>\n",
       "      <th>54198</th>\n",
       "      <td>Slipstream (1973)</td>\n",
       "      <td>Popular, but mysterious rock D.J Mike Mallard...</td>\n",
       "    </tr>\n",
       "    <tr>\n",
       "      <th>54199</th>\n",
       "      <td>Curitiba Zero Grau (2010)</td>\n",
       "      <td>Curitiba is a city in movement, with rhythms ...</td>\n",
       "    </tr>\n",
       "  </tbody>\n",
       "</table>\n",
       "<p>54200 rows × 2 columns</p>\n",
       "</div>"
      ],
      "text/plain": [
       "                                  Movie  \\\n",
       "0                 Edgar's Lunch (1998)    \n",
       "1             La guerra de papá (1977)    \n",
       "2          Off the Beaten Track (2010)    \n",
       "3               Meu Amigo Hindu (2015)    \n",
       "4                    Er nu zhai (1955)    \n",
       "...                                 ...   \n",
       "54195   \"Tales of Light & Dark\" (2013)    \n",
       "54196      Der letzte Mohikaner (1965)    \n",
       "54197              Oliver Twink (2007)    \n",
       "54198                Slipstream (1973)    \n",
       "54199        Curitiba Zero Grau (2010)    \n",
       "\n",
       "                                             Description  \n",
       "0       L.R. Brane loves his life - his car, his apar...  \n",
       "1       Spain, March 1964: Quico is a very naughty ch...  \n",
       "2       One year in the life of Albin and his family ...  \n",
       "3       His father has died, he hasn't spoken with hi...  \n",
       "4       Before he was known internationally as a mart...  \n",
       "...                                                  ...  \n",
       "54195   Covering multiple genres, Tales of Light & Da...  \n",
       "54196   As Alice and Cora Munro attempt to find their...  \n",
       "54197   A movie 169 years in the making. Oliver Twist...  \n",
       "54198   Popular, but mysterious rock D.J Mike Mallard...  \n",
       "54199   Curitiba is a city in movement, with rhythms ...  \n",
       "\n",
       "[54200 rows x 2 columns]"
      ]
     },
     "metadata": {},
     "output_type": "display_data"
    },
    {
     "name": "stdout",
     "output_type": "stream",
     "text": [
      "0.5397970479704797\n"
     ]
    }
   ],
   "source": [
    "# I have been given the test_data and test_data_solution txt files \n",
    "# I manually checked the accuracy of the model by predicting the genres of test_data and comparing the accuracy with test_data_solution['Genre] \n",
    "test=pd.read_csv('/home/harsha/Desktop/ML/Genre Classification Dataset/test_data.txt',sep=':::',header=None,names=['ID','Movie','Description'],engine='python')\n",
    "test_solution=pd.read_csv('/home/harsha/Desktop/ML/Genre Classification Dataset/test_data_solution.txt',sep=':::',header=None,names=['ID','Movie','Genre','Description'],engine='python')\n",
    "test_solution.drop(columns=['ID'],axis=1,inplace=True)\n",
    "test.drop(columns=['ID'],axis=1,inplace=True)\n",
    "display(test)\n",
    "x_test_pred=cv.transform(test['Description'])\n",
    "y_pred_test=model_LR.predict(x_test_pred)\n",
    "y_pred_solution=test_solution['Genre']\n",
    "print(accuracy_score(y_pred_solution,y_pred_test))"
   ]
  },
  {
   "cell_type": "code",
   "execution_count": 20,
   "id": "acf0dfc6",
   "metadata": {},
   "outputs": [
    {
     "name": "stdout",
     "output_type": "stream",
     "text": [
      "Accuracy of all the models \n",
      "LogisticRegression :  0.5472655169233607\n",
      "Naive Bayes :  0.560638199760214\n",
      "Random Forest :  0.49912385871068893\n"
     ]
    }
   ],
   "source": [
    "print(\"Accuracy of all the models \")\n",
    "print(\"LogisticRegression : \",accuracy_score(y_test,y_pred_LR))\n",
    "print(\"Naive Bayes : \",accuracy_score(y_test,y_pred_NB))\n",
    "print(\"Random Forest : \",accuracy_score(y_test,y_pred_rf))"
   ]
  },
  {
   "cell_type": "code",
   "execution_count": 22,
   "id": "ce5ffeb6",
   "metadata": {},
   "outputs": [
    {
     "data": {
      "text/plain": [
       "array([' action ', ' comedy ', ' drama ', ' sci-fi ', ' horror ',\n",
       "       ' fantasy ', ' documentary ', ' animation ', ' thriller ',\n",
       "       ' drama ', ' sci-fi ', ' horror ', ' drama '], dtype='<U13')"
      ]
     },
     "metadata": {},
     "output_type": "display_data"
    }
   ],
   "source": [
    "#Evaluating the model with Giving some random descriptions of some movies to find the Genres \n",
    "# For Navies Bayes it Provies maximum accuracy and correct genre mostly \n",
    "# The below code is used to predict the genres of the movies using the Naive Bayes model\n",
    "movie_descriptions = [\n",
    "    \"A retired CIA agent must use all his skills to rescue his daughter who has been kidnapped by a mysterious criminal organization across Europe.\",\n",
    "    \"Two college dropouts start a food truck and bumble their way through bizarre events, serving up tacos and laughs in equal measure.\",\n",
    "    \"A small-town waitress and a big-city lawyer fall in love while battling a property dispute, only to discover they have a shared past.\",\n",
    "    \"In a dystopian future, a hacker discovers a hidden reality where machines have enslaved humanity, and he must lead a rebellion.\",\n",
    "    \"A young couple moves into a farmhouse only to uncover a sinister presence in the basement that preys on their fears.\",\n",
    "    \"A young orphan discovers a magical world hidden behind a closet door, where creatures speak and ancient prophecies await.\",\n",
    "    \"An in-depth look into the lives of honeybees and their crucial role in global agriculture, narrated with stunning visuals.\",\n",
    "    \"A group of mischievous penguins escapes the zoo and goes on a hilarious adventure to return to their homeland in Antarctica.\",\n",
    "    \"A detective haunted by his past takes on a cold case involving a missing child and uncovers a conspiracy deeper than he imagined.\",\n",
    "    \"A young woman from a small town chases her dream of becoming a Broadway star, facing setbacks and finding her voice.\",\n",
    "    \"A group of explorers journeys through a newly discovered wormhole near Saturn in search of a new habitable planet, as Earth faces ecological collapse.\",\n",
    "    \"A small-town detective investigates a series of mysterious disappearances, uncovering dark secrets that the townspeople desperately want to keep hidden.\",\n",
    "    \"A struggling musician forms an unlikely friendship with a retired rock star, leading to a journey of self-discovery and redemption through music.\"\n",
    "]\n",
    "x_movie_descriptions=cv.transform(movie_descriptions)\n",
    "y_ver=model_NB.predict(x_movie_descriptions)\n",
    "display(y_ver)"
   ]
  }
 ],
 "metadata": {
  "kernelspec": {
   "display_name": "py_env",
   "language": "python",
   "name": "python3"
  },
  "language_info": {
   "codemirror_mode": {
    "name": "ipython",
    "version": 3
   },
   "file_extension": ".py",
   "mimetype": "text/x-python",
   "name": "python",
   "nbconvert_exporter": "python",
   "pygments_lexer": "ipython3",
   "version": "3.13.2"
  }
 },
 "nbformat": 4,
 "nbformat_minor": 5
}
