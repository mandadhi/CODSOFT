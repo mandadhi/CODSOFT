{
 "cells": [
  {
   "cell_type": "code",
   "execution_count": 13,
   "id": "5aa64e33",
   "metadata": {},
   "outputs": [],
   "source": [
    "#importing all required libraries\n",
    "import pandas as pd\n",
    "import numpy as np \n",
    "from sklearn.model_selection import train_test_split\n",
    "from sklearn.linear_model import LogisticRegression\n",
    "from sklearn.metrics import accuracy_score\n",
    "from sklearn.metrics import classification_report\n",
    "from sklearn.naive_bayes import MultinomialNB\n",
    "from sklearn.feature_extraction.text import TfidfVectorizer\n",
    "from sklearn import svm\n",
    "from sklearn.feature_extraction.text import CountVectorizer"
   ]
  },
  {
   "cell_type": "code",
   "execution_count": 14,
   "id": "d752ecdd",
   "metadata": {},
   "outputs": [
    {
     "name": "stdout",
     "output_type": "stream",
     "text": [
      "{'encoding': 'Windows-1252', 'confidence': 0.7261670208776098, 'language': ''}\n"
     ]
    }
   ],
   "source": [
    "#chardet is used to detect the character encoding in the given dataset\n",
    "import chardet\n",
    "with open('/home/harsha/Desktop/ML/spam/spam.csv','rb') as f:\n",
    "    result=chardet.detect(f.read(10000))\n",
    "print(result)"
   ]
  },
  {
   "cell_type": "code",
   "execution_count": 15,
   "id": "321580b1",
   "metadata": {},
   "outputs": [
    {
     "name": "stdout",
     "output_type": "stream",
     "text": [
      "(5572, 5) 403 None (5169, 5)\n",
      "     v1                                                 v2 Unnamed: 2  \\\n",
      "0   ham  Go until jurong point, crazy.. Available only ...        NaN   \n",
      "1   ham                      Ok lar... Joking wif u oni...        NaN   \n",
      "2  spam  Free entry in 2 a wkly comp to win FA Cup fina...        NaN   \n",
      "3   ham  U dun say so early hor... U c already then say...        NaN   \n",
      "4   ham  Nah I don't think he goes to usf, he lives aro...        NaN   \n",
      "\n",
      "  Unnamed: 3 Unnamed: 4  \n",
      "0        NaN        NaN  \n",
      "1        NaN        NaN  \n",
      "2        NaN        NaN  \n",
      "3        NaN        NaN  \n",
      "4        NaN        NaN  \n",
      "v1               0\n",
      "v2               0\n",
      "Unnamed: 2    5126\n",
      "Unnamed: 3    5159\n",
      "Unnamed: 4    5164\n",
      "dtype: int64\n"
     ]
    }
   ],
   "source": [
    "#reading data set as encoding was found to be Windows-1252\n",
    "df=pd.read_csv('/home/harsha/Desktop/ML/spam/spam.csv',encoding='Windows-1252')\n",
    "print(df.shape,df.duplicated().sum(),df.drop_duplicates(inplace=True),df.shape)\n",
    "print(df.head())\n",
    "#counting the null values in each ccolumn\n",
    "print(df.isna().sum())"
   ]
  },
  {
   "cell_type": "code",
   "execution_count": 16,
   "id": "b1fb1b90",
   "metadata": {},
   "outputs": [
    {
     "name": "stdout",
     "output_type": "stream",
     "text": [
      "Index(['v1', 'v2', 'Unnamed: 2', 'Unnamed: 3', 'Unnamed: 4'], dtype='object')\n",
      "Index(['v1', 'v2'], dtype='object')\n"
     ]
    }
   ],
   "source": [
    "#printing or knowing the columns present in the dataset \n",
    "print(df.columns)\n",
    "#droping the unnecessary columns in the dataset as they are Nan\n",
    "df.drop(['Unnamed: 2','Unnamed: 3','Unnamed: 4'],axis=1,inplace=True)\n",
    "#printing the updated columns in the data set\n",
    "print(df.columns)"
   ]
  },
  {
   "cell_type": "code",
   "execution_count": 17,
   "id": "b4c092f5",
   "metadata": {},
   "outputs": [
    {
     "data": {
      "text/html": [
       "<div>\n",
       "<style scoped>\n",
       "    .dataframe tbody tr th:only-of-type {\n",
       "        vertical-align: middle;\n",
       "    }\n",
       "\n",
       "    .dataframe tbody tr th {\n",
       "        vertical-align: top;\n",
       "    }\n",
       "\n",
       "    .dataframe thead th {\n",
       "        text-align: right;\n",
       "    }\n",
       "</style>\n",
       "<table border=\"1\" class=\"dataframe\">\n",
       "  <thead>\n",
       "    <tr style=\"text-align: right;\">\n",
       "      <th></th>\n",
       "      <th>Output</th>\n",
       "      <th>Message</th>\n",
       "    </tr>\n",
       "  </thead>\n",
       "  <tbody>\n",
       "    <tr>\n",
       "      <th>0</th>\n",
       "      <td>0</td>\n",
       "      <td>Go until jurong point, crazy.. Available only ...</td>\n",
       "    </tr>\n",
       "    <tr>\n",
       "      <th>1</th>\n",
       "      <td>0</td>\n",
       "      <td>Ok lar... Joking wif u oni...</td>\n",
       "    </tr>\n",
       "    <tr>\n",
       "      <th>2</th>\n",
       "      <td>1</td>\n",
       "      <td>Free entry in 2 a wkly comp to win FA Cup fina...</td>\n",
       "    </tr>\n",
       "    <tr>\n",
       "      <th>3</th>\n",
       "      <td>0</td>\n",
       "      <td>U dun say so early hor... U c already then say...</td>\n",
       "    </tr>\n",
       "    <tr>\n",
       "      <th>4</th>\n",
       "      <td>0</td>\n",
       "      <td>Nah I don't think he goes to usf, he lives aro...</td>\n",
       "    </tr>\n",
       "  </tbody>\n",
       "</table>\n",
       "</div>"
      ],
      "text/plain": [
       "  Output                                            Message\n",
       "0      0  Go until jurong point, crazy.. Available only ...\n",
       "1      0                      Ok lar... Joking wif u oni...\n",
       "2      1  Free entry in 2 a wkly comp to win FA Cup fina...\n",
       "3      0  U dun say so early hor... U c already then say...\n",
       "4      0  Nah I don't think he goes to usf, he lives aro..."
      ]
     },
     "execution_count": 17,
     "metadata": {},
     "output_type": "execute_result"
    }
   ],
   "source": [
    "#rename the columns v1 as Output and v2 as Message\n",
    "df.rename(columns={'v1':'Output','v2':'Message'},inplace=True)\n",
    "df['Output']=df['Output'].map({'ham':'0','spam':'1'})\n",
    "df.head()\n"
   ]
  },
  {
   "cell_type": "code",
   "execution_count": 18,
   "id": "706a17ff",
   "metadata": {},
   "outputs": [
    {
     "name": "stdout",
     "output_type": "stream",
     "text": [
      "(4135,)\n",
      "(1034,)\n",
      "(4135,)\n",
      "(1034,)\n"
     ]
    }
   ],
   "source": [
    "# Features are Inputs and Target is the Output whether spam or ham \n",
    "features=df['Message']\n",
    "target=df['Output']\n",
    "#splitting the data for training and testing \n",
    "x_train,x_test,y_train,y_test=train_test_split(features,target,test_size=0.2,random_state=3)\n",
    "print(x_train.shape)\n",
    "print(x_test.shape)\n",
    "print(y_train.shape)\n",
    "print(y_test.shape)\n"
   ]
  },
  {
   "cell_type": "code",
   "execution_count": 20,
   "id": "ae8f7025",
   "metadata": {},
   "outputs": [
    {
     "data": {
      "text/plain": [
       "array([[0, 0, 0, ..., 0, 0, 0],\n",
       "       [0, 0, 0, ..., 0, 0, 0],\n",
       "       [0, 0, 0, ..., 0, 0, 0],\n",
       "       ...,\n",
       "       [0, 0, 1, ..., 0, 0, 0],\n",
       "       [0, 0, 0, ..., 0, 0, 0],\n",
       "       [0, 0, 0, ..., 0, 0, 0]], shape=(4135, 7642))"
      ]
     },
     "execution_count": 20,
     "metadata": {},
     "output_type": "execute_result"
    }
   ],
   "source": [
    "#For Spam detection common words also play a crucial role in finding spam or ham so we dont use stopwords for removing the common words\n",
    "#converting the words into numbers as Machine only computes or undderstands the Numbers/binary\n",
    "cv=CountVectorizer()\n",
    "x_train_vector=cv.fit_transform(x_train.values)\n",
    "x_test_vector=cv.transform(x_test.values)\n",
    "x_train_vector.toarray()\n"
   ]
  },
  {
   "cell_type": "code",
   "execution_count": null,
   "id": "61c2763f",
   "metadata": {},
   "outputs": [
    {
     "name": "stdout",
     "output_type": "stream",
     "text": [
      "0.9758220502901354\n",
      "              precision    recall  f1-score   support\n",
      "\n",
      "           0       0.98      1.00      0.99       894\n",
      "           1       0.98      0.84      0.90       140\n",
      "\n",
      "    accuracy                           0.98      1034\n",
      "   macro avg       0.98      0.92      0.95      1034\n",
      "weighted avg       0.98      0.98      0.98      1034\n",
      "\n"
     ]
    }
   ],
   "source": [
    "#LogisticRegression Model \n",
    "model_LR=LogisticRegression()\n",
    "model_LR.fit(x_train_vector,y_train)\n",
    "y_pred_LR=model_LR.predict(x_test_vector)\n",
    "print(accuracy_score(y_test,y_pred_LR))\n",
    "print(classification_report(y_test,y_pred_LR))"
   ]
  },
  {
   "cell_type": "code",
   "execution_count": null,
   "id": "d03ce86c",
   "metadata": {},
   "outputs": [
    {
     "name": "stdout",
     "output_type": "stream",
     "text": [
      "              precision    recall  f1-score   support\n",
      "\n",
      "           0       0.98      1.00      0.99       894\n",
      "           1       0.97      0.89      0.93       140\n",
      "\n",
      "    accuracy                           0.98      1034\n",
      "   macro avg       0.98      0.94      0.96      1034\n",
      "weighted avg       0.98      0.98      0.98      1034\n",
      "\n"
     ]
    }
   ],
   "source": [
    "#Naive Bayes Model\n",
    "model_NB=MultinomialNB()\n",
    "model_NB.fit(x_train_vector,y_train)\n",
    "y_pred_NB=model_NB.predict(x_test_vector)\n",
    "accuracy_score(y_test,y_pred_NB)\n",
    "print(classification_report(y_test,y_pred_NB))"
   ]
  },
  {
   "cell_type": "code",
   "execution_count": null,
   "id": "c47ab75c",
   "metadata": {},
   "outputs": [
    {
     "name": "stdout",
     "output_type": "stream",
     "text": [
      "              precision    recall  f1-score   support\n",
      "\n",
      "           0       0.98      1.00      0.99       894\n",
      "           1       0.99      0.84      0.91       140\n",
      "\n",
      "    accuracy                           0.98      1034\n",
      "   macro avg       0.98      0.92      0.95      1034\n",
      "weighted avg       0.98      0.98      0.98      1034\n",
      "\n"
     ]
    }
   ],
   "source": [
    "#Support Vector Machine model\n",
    "#It needs a parameter kernel based on the type of dataset (Linear,Poly,Rbf)\n",
    "model_SV=svm.SVC(kernel='linear')\n",
    "model_SV.fit(x_train_vector,y_train)\n",
    "y_pred_SV=model_SV.predict(x_test_vector)\n",
    "accuracy_score(y_test,y_pred_SV)\n",
    "print(classification_report(y_test,y_pred_SV))"
   ]
  },
  {
   "cell_type": "code",
   "execution_count": null,
   "id": "408fc80b",
   "metadata": {},
   "outputs": [
    {
     "name": "stdout",
     "output_type": "stream",
     "text": [
      "0.9758220502901354\n",
      "0.9806576402321083\n",
      "0.9777562862669246\n"
     ]
    }
   ],
   "source": [
    "#Choosing the best model based on Accuracy \n",
    "print(accuracy_score(y_test,y_pred_LR))\n",
    "print(accuracy_score(y_test,y_pred_NB))\n",
    "print(accuracy_score(y_test,y_pred_SV))"
   ]
  },
  {
   "cell_type": "code",
   "execution_count": null,
   "id": "7eab529b",
   "metadata": {},
   "outputs": [
    {
     "name": "stdout",
     "output_type": "stream",
     "text": [
      "['0']\n"
     ]
    }
   ],
   "source": [
    "#Naive Bayes model is the best model for this it has 0.9806576402321083 Accuracy\n",
    "#Testing the model by giving some Input Texts\n",
    "sample=\"Hey there how is the day order some food\"\n",
    "sample_vector=cv.transform([sample])\n",
    "sample_predict=model_NB.predict(sample_vector)\n",
    "print(sample_predict)\n"
   ]
  },
  {
   "cell_type": "code",
   "execution_count": null,
   "id": "1849ba6a",
   "metadata": {},
   "outputs": [
    {
     "name": "stdout",
     "output_type": "stream",
     "text": [
      "Get cheap medications online without prescription! Limited time offer! --> Ham\n",
      "Hi Mom, just letting you know I arrived safely. Love you! --> Ham\n",
      "URGENT: Update your bank account details to avoid suspension. --> Spam\n",
      "Hey John, can we reschedule our meeting to 3 PM tomorrow? --> Ham\n",
      "You have been selected for a FREE vacation to the Bahamas! Respond now. --> Spam\n",
      "Dear Sarah, please find attached the project report for your review. --> Ham\n",
      "Earn $5000 per week working from home. Sign up today! --> Ham\n",
      "Reminder: Your dentist appointment is scheduled for next Monday at 10 AM. --> Ham\n",
      "Congratulations! You have won a $1000 Walmart gift card. Click here to claim. --> Spam\n",
      "Hi team, the weekly report has been uploaded to the shared drive. --> Ham\n"
     ]
    }
   ],
   "source": [
    "#giving some random inputs to check the model\n",
    "#Spam or Ham\n",
    "#Spam: 1 and Ham: 0\n",
    "sample_list=[\"Get cheap medications online without prescription! Limited time offer!\",\n",
    "    \"Hi Mom, just letting you know I arrived safely. Love you!\",\n",
    "    \"URGENT: Update your bank account details to avoid suspension.\",\n",
    "    \"Hey John, can we reschedule our meeting to 3 PM tomorrow?\",\n",
    "    \"You have been selected for a FREE vacation to the Bahamas! Respond now.\",\n",
    "    \"Dear Sarah, please find attached the project report for your review.\",\n",
    "    \"Earn $5000 per week working from home. Sign up today!\",\n",
    "    \"Reminder: Your dentist appointment is scheduled for next Monday at 10 AM.\",\n",
    "    \"Congratulations! You have won a $1000 Walmart gift card. Click here to claim.\",\n",
    "    \"Hi team, the weekly report has been uploaded to the shared drive.\"]\n",
    "for i in sample_list:\n",
    "    sample=str(i)\n",
    "    sample_vector=cv.transform([sample])\n",
    "    sample_predict=model_NB.predict(sample_vector)\n",
    "    sample_predict\n",
    "    if sample_predict==str(1):\n",
    "        print(i+\" --> Spam\")\n",
    "    else:\n",
    "        print(i+\" --> Ham\")"
   ]
  }
 ],
 "metadata": {
  "kernelspec": {
   "display_name": "py_env",
   "language": "python",
   "name": "python3"
  },
  "language_info": {
   "codemirror_mode": {
    "name": "ipython",
    "version": 3
   },
   "file_extension": ".py",
   "mimetype": "text/x-python",
   "name": "python",
   "nbconvert_exporter": "python",
   "pygments_lexer": "ipython3",
   "version": "3.13.2"
  }
 },
 "nbformat": 4,
 "nbformat_minor": 5
}
